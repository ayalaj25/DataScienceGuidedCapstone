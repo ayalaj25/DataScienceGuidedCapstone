{
 "cells": [
  {
   "cell_type": "markdown",
   "metadata": {},
   "source": [
    "# Big Mountain Resort\n",
    "\n",
    "### Context \n",
    "Big Mountain Resort, located in Montana, recently added a lift that is expected to increase operational costs for the season by $1.54M. In an effort to offset this cost, Big Mountain Resort is wondering what venues it has to increase revenue and/or reduce operating costs. \n",
    "\n",
    "The data that is provided contains descriptive features of 330 ski resorts from across the United States - including Big Mountain Resort. Among these features are two containing the weekday and weekend ticket price, respectively. Utilizing the available features the focus is to predict and appropriate ticket price for Big Mountain Resort and explore how adding/removing from the available features affects the ticket price. For this analysis the weekend ticket price is used as it has less missing values than the weekday ticket price feature. It is important to note that since all resorts in the data are considered to share the same market segment, the scope of the analysis is countrywide. \n",
    "\n",
    "### Recommendations\n",
    "Considering the facilities available at Big Mountain Resort, **the recommended price for tickets is \\$96**. Furthermore, it would be benefitial to **add a run (and lift) that extends the elevation drop by 150 feet**.\n",
    "\n",
    "Big Mountain Resort currently charges $81 dollars for tickets. Analysis suggests that Big Mountain Resort’s pricing model of charging a premium over the market average is underpricing tickets. The following figure displays the distribution of prices charged by different ski resorts around the country. \n",
    "\n",
    "![price](price_distribution.png)\n",
    "\n",
    "It appears as though Big Mountain Resort is unaware of national value that its facilites (runs, lifts, vertical drop, etc.) boast. A series of features stand out as more important to the pricing model: the number of lifts, the number of runs, the area of snow making, and especially the vertical drop. In all of these characteristics, Big Mountain Resort scores high among its competitors. The following are distributions of these named features. \n",
    "\n",
    "![vertical_drop](vertical_drop_distribution.png)\n",
    "![lifts](lifts_distribution.png)\n",
    "![snow_making](snow_making_distribution.png)\n",
    "![runs](runs_distribution.png)\n",
    "\n",
    "Considering the number of visitors (350,000) and the average stay lenth (5 days) remains constant, adjusting prices to \\\\$96 results in a $26M increase in revenue. This alone more than offsets the 88 cents per ticket that the recently installed chair lift costs. \n",
    "\n",
    "Furthermore, reducing the number of facilities available lowers the predicted ticket price. For example, removing the 10 least popular runs produces the following effect. \n",
    "\n",
    "![reducing_runs](reducing_runs.png)\n",
    "\n",
    "One scenario that improved ticket price is adding a run (and lift) that extends the vertical drop by 150 feet. This scenario promotes a \\\\$2 increase in ticket price, a $3.5M per season increase in revenue. "
   ]
  }
 ],
 "metadata": {
  "kernelspec": {
   "display_name": "Python 3",
   "language": "python",
   "name": "python3"
  },
  "language_info": {
   "codemirror_mode": {
    "name": "ipython",
    "version": 3
   },
   "file_extension": ".py",
   "mimetype": "text/x-python",
   "name": "python",
   "nbconvert_exporter": "python",
   "pygments_lexer": "ipython3",
   "version": "3.8.3"
  }
 },
 "nbformat": 4,
 "nbformat_minor": 4
}
